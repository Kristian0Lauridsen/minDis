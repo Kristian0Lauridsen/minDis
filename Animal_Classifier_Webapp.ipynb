{
  "cells": [
    {
      "cell_type": "markdown",
      "metadata": {
        "id": "view-in-github",
        "colab_type": "text"
      },
      "source": [
        "<a href=\"https://colab.research.google.com/github/Kristian0Lauridsen/minDis/blob/master/Animal_Classifier_Webapp.ipynb\" target=\"_parent\"><img src=\"https://colab.research.google.com/assets/colab-badge.svg\" alt=\"Open In Colab\"/></a>"
      ]
    },
    {
      "cell_type": "code",
      "source": [
        "pip install fastai torch --upgrade"
      ],
      "metadata": {
        "colab": {
          "base_uri": "https://localhost:8080/"
        },
        "collapsed": true,
        "id": "Xumwq__fjWuw",
        "outputId": "a7668a40-7b7d-431e-b83e-c5b23f3f49d4"
      },
      "id": "Xumwq__fjWuw",
      "execution_count": 19,
      "outputs": [
        {
          "output_type": "stream",
          "name": "stdout",
          "text": [
            "Requirement already satisfied: fastai in /usr/local/lib/python3.10/dist-packages (2.7.18)\n",
            "Requirement already satisfied: torch in /usr/local/lib/python3.10/dist-packages (2.5.0+cu121)\n",
            "Collecting torch\n",
            "  Downloading torch-2.5.1-cp310-cp310-manylinux1_x86_64.whl.metadata (28 kB)\n",
            "Requirement already satisfied: pip in /usr/local/lib/python3.10/dist-packages (from fastai) (24.1.2)\n",
            "Requirement already satisfied: packaging in /usr/local/lib/python3.10/dist-packages (from fastai) (24.2)\n",
            "Requirement already satisfied: fastdownload<2,>=0.0.5 in /usr/local/lib/python3.10/dist-packages (from fastai) (0.0.7)\n",
            "Requirement already satisfied: fastcore<1.8,>=1.5.29 in /usr/local/lib/python3.10/dist-packages (from fastai) (1.7.19)\n",
            "Requirement already satisfied: torchvision>=0.11 in /usr/local/lib/python3.10/dist-packages (from fastai) (0.20.0+cu121)\n",
            "Requirement already satisfied: matplotlib in /usr/local/lib/python3.10/dist-packages (from fastai) (3.8.0)\n",
            "Requirement already satisfied: pandas in /usr/local/lib/python3.10/dist-packages (from fastai) (2.2.2)\n",
            "Requirement already satisfied: requests in /usr/local/lib/python3.10/dist-packages (from fastai) (2.32.3)\n",
            "Requirement already satisfied: pyyaml in /usr/local/lib/python3.10/dist-packages (from fastai) (6.0.2)\n",
            "Requirement already satisfied: fastprogress>=0.2.4 in /usr/local/lib/python3.10/dist-packages (from fastai) (1.0.3)\n",
            "Requirement already satisfied: pillow>=9.0.0 in /usr/local/lib/python3.10/dist-packages (from fastai) (11.0.0)\n",
            "Requirement already satisfied: scikit-learn in /usr/local/lib/python3.10/dist-packages (from fastai) (1.5.2)\n",
            "Requirement already satisfied: scipy in /usr/local/lib/python3.10/dist-packages (from fastai) (1.13.1)\n",
            "Requirement already satisfied: spacy<4 in /usr/local/lib/python3.10/dist-packages (from fastai) (3.7.5)\n",
            "Requirement already satisfied: filelock in /usr/local/lib/python3.10/dist-packages (from torch) (3.16.1)\n",
            "Requirement already satisfied: typing-extensions>=4.8.0 in /usr/local/lib/python3.10/dist-packages (from torch) (4.12.2)\n",
            "Requirement already satisfied: networkx in /usr/local/lib/python3.10/dist-packages (from torch) (3.4.2)\n",
            "Requirement already satisfied: jinja2 in /usr/local/lib/python3.10/dist-packages (from torch) (3.1.4)\n",
            "Requirement already satisfied: fsspec in /usr/local/lib/python3.10/dist-packages (from torch) (2024.10.0)\n",
            "Collecting nvidia-cuda-nvrtc-cu12==12.4.127 (from torch)\n",
            "  Downloading nvidia_cuda_nvrtc_cu12-12.4.127-py3-none-manylinux2014_x86_64.whl.metadata (1.5 kB)\n",
            "Collecting nvidia-cuda-runtime-cu12==12.4.127 (from torch)\n",
            "  Downloading nvidia_cuda_runtime_cu12-12.4.127-py3-none-manylinux2014_x86_64.whl.metadata (1.5 kB)\n",
            "Collecting nvidia-cuda-cupti-cu12==12.4.127 (from torch)\n",
            "  Downloading nvidia_cuda_cupti_cu12-12.4.127-py3-none-manylinux2014_x86_64.whl.metadata (1.6 kB)\n",
            "Collecting nvidia-cudnn-cu12==9.1.0.70 (from torch)\n",
            "  Downloading nvidia_cudnn_cu12-9.1.0.70-py3-none-manylinux2014_x86_64.whl.metadata (1.6 kB)\n",
            "Collecting nvidia-cublas-cu12==12.4.5.8 (from torch)\n",
            "  Downloading nvidia_cublas_cu12-12.4.5.8-py3-none-manylinux2014_x86_64.whl.metadata (1.5 kB)\n",
            "Collecting nvidia-cufft-cu12==11.2.1.3 (from torch)\n",
            "  Downloading nvidia_cufft_cu12-11.2.1.3-py3-none-manylinux2014_x86_64.whl.metadata (1.5 kB)\n",
            "Collecting nvidia-curand-cu12==10.3.5.147 (from torch)\n",
            "  Downloading nvidia_curand_cu12-10.3.5.147-py3-none-manylinux2014_x86_64.whl.metadata (1.5 kB)\n",
            "Collecting nvidia-cusolver-cu12==11.6.1.9 (from torch)\n",
            "  Downloading nvidia_cusolver_cu12-11.6.1.9-py3-none-manylinux2014_x86_64.whl.metadata (1.6 kB)\n",
            "Collecting nvidia-cusparse-cu12==12.3.1.170 (from torch)\n",
            "  Downloading nvidia_cusparse_cu12-12.3.1.170-py3-none-manylinux2014_x86_64.whl.metadata (1.6 kB)\n",
            "Collecting nvidia-nccl-cu12==2.21.5 (from torch)\n",
            "  Downloading nvidia_nccl_cu12-2.21.5-py3-none-manylinux2014_x86_64.whl.metadata (1.8 kB)\n",
            "Collecting nvidia-nvtx-cu12==12.4.127 (from torch)\n",
            "  Downloading nvidia_nvtx_cu12-12.4.127-py3-none-manylinux2014_x86_64.whl.metadata (1.7 kB)\n",
            "Collecting nvidia-nvjitlink-cu12==12.4.127 (from torch)\n",
            "  Downloading nvidia_nvjitlink_cu12-12.4.127-py3-none-manylinux2014_x86_64.whl.metadata (1.5 kB)\n",
            "Collecting triton==3.1.0 (from torch)\n",
            "  Downloading triton-3.1.0-cp310-cp310-manylinux_2_17_x86_64.manylinux2014_x86_64.whl.metadata (1.3 kB)\n",
            "Requirement already satisfied: sympy==1.13.1 in /usr/local/lib/python3.10/dist-packages (from torch) (1.13.1)\n",
            "Requirement already satisfied: mpmath<1.4,>=1.1.0 in /usr/local/lib/python3.10/dist-packages (from sympy==1.13.1->torch) (1.3.0)\n",
            "Requirement already satisfied: spacy-legacy<3.1.0,>=3.0.11 in /usr/local/lib/python3.10/dist-packages (from spacy<4->fastai) (3.0.12)\n",
            "Requirement already satisfied: spacy-loggers<2.0.0,>=1.0.0 in /usr/local/lib/python3.10/dist-packages (from spacy<4->fastai) (1.0.5)\n",
            "Requirement already satisfied: murmurhash<1.1.0,>=0.28.0 in /usr/local/lib/python3.10/dist-packages (from spacy<4->fastai) (1.0.10)\n",
            "Requirement already satisfied: cymem<2.1.0,>=2.0.2 in /usr/local/lib/python3.10/dist-packages (from spacy<4->fastai) (2.0.8)\n",
            "Requirement already satisfied: preshed<3.1.0,>=3.0.2 in /usr/local/lib/python3.10/dist-packages (from spacy<4->fastai) (3.0.9)\n",
            "Requirement already satisfied: thinc<8.3.0,>=8.2.2 in /usr/local/lib/python3.10/dist-packages (from spacy<4->fastai) (8.2.5)\n",
            "Requirement already satisfied: wasabi<1.2.0,>=0.9.1 in /usr/local/lib/python3.10/dist-packages (from spacy<4->fastai) (1.1.3)\n",
            "Requirement already satisfied: srsly<3.0.0,>=2.4.3 in /usr/local/lib/python3.10/dist-packages (from spacy<4->fastai) (2.4.8)\n",
            "Requirement already satisfied: catalogue<2.1.0,>=2.0.6 in /usr/local/lib/python3.10/dist-packages (from spacy<4->fastai) (2.0.10)\n",
            "Requirement already satisfied: weasel<0.5.0,>=0.1.0 in /usr/local/lib/python3.10/dist-packages (from spacy<4->fastai) (0.4.1)\n",
            "Requirement already satisfied: typer<1.0.0,>=0.3.0 in /usr/local/lib/python3.10/dist-packages (from spacy<4->fastai) (0.13.0)\n",
            "Requirement already satisfied: tqdm<5.0.0,>=4.38.0 in /usr/local/lib/python3.10/dist-packages (from spacy<4->fastai) (4.66.6)\n",
            "Requirement already satisfied: pydantic!=1.8,!=1.8.1,<3.0.0,>=1.7.4 in /usr/local/lib/python3.10/dist-packages (from spacy<4->fastai) (2.9.2)\n",
            "Requirement already satisfied: setuptools in /usr/local/lib/python3.10/dist-packages (from spacy<4->fastai) (75.1.0)\n",
            "Requirement already satisfied: langcodes<4.0.0,>=3.2.0 in /usr/local/lib/python3.10/dist-packages (from spacy<4->fastai) (3.4.1)\n",
            "Requirement already satisfied: numpy>=1.19.0 in /usr/local/lib/python3.10/dist-packages (from spacy<4->fastai) (1.26.4)\n",
            "Requirement already satisfied: charset-normalizer<4,>=2 in /usr/local/lib/python3.10/dist-packages (from requests->fastai) (3.4.0)\n",
            "Requirement already satisfied: idna<4,>=2.5 in /usr/local/lib/python3.10/dist-packages (from requests->fastai) (3.10)\n",
            "Requirement already satisfied: urllib3<3,>=1.21.1 in /usr/local/lib/python3.10/dist-packages (from requests->fastai) (2.2.3)\n",
            "Requirement already satisfied: certifi>=2017.4.17 in /usr/local/lib/python3.10/dist-packages (from requests->fastai) (2024.8.30)\n",
            "Requirement already satisfied: MarkupSafe>=2.0 in /usr/local/lib/python3.10/dist-packages (from jinja2->torch) (3.0.2)\n",
            "Requirement already satisfied: contourpy>=1.0.1 in /usr/local/lib/python3.10/dist-packages (from matplotlib->fastai) (1.3.0)\n",
            "Requirement already satisfied: cycler>=0.10 in /usr/local/lib/python3.10/dist-packages (from matplotlib->fastai) (0.12.1)\n",
            "Requirement already satisfied: fonttools>=4.22.0 in /usr/local/lib/python3.10/dist-packages (from matplotlib->fastai) (4.54.1)\n",
            "Requirement already satisfied: kiwisolver>=1.0.1 in /usr/local/lib/python3.10/dist-packages (from matplotlib->fastai) (1.4.7)\n",
            "Requirement already satisfied: pyparsing>=2.3.1 in /usr/local/lib/python3.10/dist-packages (from matplotlib->fastai) (3.2.0)\n",
            "Requirement already satisfied: python-dateutil>=2.7 in /usr/local/lib/python3.10/dist-packages (from matplotlib->fastai) (2.8.2)\n",
            "Requirement already satisfied: pytz>=2020.1 in /usr/local/lib/python3.10/dist-packages (from pandas->fastai) (2024.2)\n",
            "Requirement already satisfied: tzdata>=2022.7 in /usr/local/lib/python3.10/dist-packages (from pandas->fastai) (2024.2)\n",
            "Requirement already satisfied: joblib>=1.2.0 in /usr/local/lib/python3.10/dist-packages (from scikit-learn->fastai) (1.4.2)\n",
            "Requirement already satisfied: threadpoolctl>=3.1.0 in /usr/local/lib/python3.10/dist-packages (from scikit-learn->fastai) (3.5.0)\n",
            "Requirement already satisfied: language-data>=1.2 in /usr/local/lib/python3.10/dist-packages (from langcodes<4.0.0,>=3.2.0->spacy<4->fastai) (1.2.0)\n",
            "Requirement already satisfied: annotated-types>=0.6.0 in /usr/local/lib/python3.10/dist-packages (from pydantic!=1.8,!=1.8.1,<3.0.0,>=1.7.4->spacy<4->fastai) (0.7.0)\n",
            "Requirement already satisfied: pydantic-core==2.23.4 in /usr/local/lib/python3.10/dist-packages (from pydantic!=1.8,!=1.8.1,<3.0.0,>=1.7.4->spacy<4->fastai) (2.23.4)\n",
            "Requirement already satisfied: six>=1.5 in /usr/local/lib/python3.10/dist-packages (from python-dateutil>=2.7->matplotlib->fastai) (1.16.0)\n",
            "Requirement already satisfied: blis<0.8.0,>=0.7.8 in /usr/local/lib/python3.10/dist-packages (from thinc<8.3.0,>=8.2.2->spacy<4->fastai) (0.7.11)\n",
            "Requirement already satisfied: confection<1.0.0,>=0.0.1 in /usr/local/lib/python3.10/dist-packages (from thinc<8.3.0,>=8.2.2->spacy<4->fastai) (0.1.5)\n",
            "Requirement already satisfied: click>=8.0.0 in /usr/local/lib/python3.10/dist-packages (from typer<1.0.0,>=0.3.0->spacy<4->fastai) (8.1.7)\n",
            "Requirement already satisfied: shellingham>=1.3.0 in /usr/local/lib/python3.10/dist-packages (from typer<1.0.0,>=0.3.0->spacy<4->fastai) (1.5.4)\n",
            "Requirement already satisfied: rich>=10.11.0 in /usr/local/lib/python3.10/dist-packages (from typer<1.0.0,>=0.3.0->spacy<4->fastai) (13.9.4)\n",
            "Requirement already satisfied: cloudpathlib<1.0.0,>=0.7.0 in /usr/local/lib/python3.10/dist-packages (from weasel<0.5.0,>=0.1.0->spacy<4->fastai) (0.20.0)\n",
            "Requirement already satisfied: smart-open<8.0.0,>=5.2.1 in /usr/local/lib/python3.10/dist-packages (from weasel<0.5.0,>=0.1.0->spacy<4->fastai) (7.0.5)\n",
            "Requirement already satisfied: marisa-trie>=0.7.7 in /usr/local/lib/python3.10/dist-packages (from language-data>=1.2->langcodes<4.0.0,>=3.2.0->spacy<4->fastai) (1.2.1)\n",
            "Requirement already satisfied: markdown-it-py>=2.2.0 in /usr/local/lib/python3.10/dist-packages (from rich>=10.11.0->typer<1.0.0,>=0.3.0->spacy<4->fastai) (3.0.0)\n",
            "Requirement already satisfied: pygments<3.0.0,>=2.13.0 in /usr/local/lib/python3.10/dist-packages (from rich>=10.11.0->typer<1.0.0,>=0.3.0->spacy<4->fastai) (2.18.0)\n",
            "Requirement already satisfied: wrapt in /usr/local/lib/python3.10/dist-packages (from smart-open<8.0.0,>=5.2.1->weasel<0.5.0,>=0.1.0->spacy<4->fastai) (1.16.0)\n",
            "Requirement already satisfied: mdurl~=0.1 in /usr/local/lib/python3.10/dist-packages (from markdown-it-py>=2.2.0->rich>=10.11.0->typer<1.0.0,>=0.3.0->spacy<4->fastai) (0.1.2)\n"
          ]
        }
      ]
    },
    {
      "cell_type": "code",
      "execution_count": 20,
      "id": "62543560-220f-4d94-b7b7-dc40dae71125",
      "metadata": {
        "id": "62543560-220f-4d94-b7b7-dc40dae71125"
      },
      "outputs": [],
      "source": [
        "from ipywidgets import widgets\n",
        "from fastai.vision.widgets import *\n",
        "from types import SimpleNamespace\n",
        "from fastai.vision.core import PILImage\n",
        "from fastai.learner import load_learner"
      ]
    },
    {
      "cell_type": "code",
      "source": [
        "from google.colab import drive\n",
        "drive.mount('/content/drive')"
      ],
      "metadata": {
        "colab": {
          "base_uri": "https://localhost:8080/"
        },
        "id": "Xn3PWP7Adhc4",
        "outputId": "9de6ba58-571c-4d92-acc5-21d7c9d03528"
      },
      "id": "Xn3PWP7Adhc4",
      "execution_count": 8,
      "outputs": [
        {
          "output_type": "stream",
          "name": "stdout",
          "text": [
            "Mounted at /content/drive\n"
          ]
        }
      ]
    },
    {
      "cell_type": "code",
      "source": [
        "name_mapping = {\n",
        "    'cavallo': 'horse',\n",
        "    'pecora': 'sheep',\n",
        "    'elefante': 'elephant',\n",
        "    'gatto': 'cat',\n",
        "    'scoiattolo': 'squirrel',\n",
        "    'gallina': 'chicken',\n",
        "    'ragno': 'spider',\n",
        "    'mucca': 'cow',\n",
        "    'cane': 'dog',\n",
        "    'farfalla': 'butterfly'\n",
        "}\n",
        "\n",
        "# Function to get the English label from the folder name\n",
        "def get_english_label(filepath):\n",
        "    folder_name = filepath.parent.name\n",
        "    return name_mapping.get(folder_name, folder_name)  # Default to original if not in mapping"
      ],
      "metadata": {
        "id": "PZz7W92ijq5n"
      },
      "id": "PZz7W92ijq5n",
      "execution_count": 22,
      "outputs": []
    },
    {
      "cell_type": "code",
      "source": [
        "import os\n",
        "\n",
        "# Create a directory in Colab's file system\n",
        "os.makedirs('/content/my_data', exist_ok=True)\n",
        "\n",
        "# Alternatively, create a directory in Google Drive\n",
        "os.makedirs('/content/drive/My Drive/my_data', exist_ok=True)"
      ],
      "metadata": {
        "id": "MKuuPx3Xdm_H"
      },
      "id": "MKuuPx3Xdm_H",
      "execution_count": 9,
      "outputs": []
    },
    {
      "cell_type": "code",
      "execution_count": 2,
      "id": "e6618495-a8ea-4340-b37a-304302be5814",
      "metadata": {
        "colab": {
          "base_uri": "https://localhost:8080/",
          "height": 49,
          "referenced_widgets": [
            "7555d88051654020bc9ead17752cdf0d",
            "89789626b5ec4a9197dc3843de837e1c",
            "754c4ce9cdad4e72b4c0bef3562dcdde"
          ]
        },
        "id": "e6618495-a8ea-4340-b37a-304302be5814",
        "outputId": "3038fbbe-3591-4e4f-f50c-b1f5a7726405"
      },
      "outputs": [
        {
          "output_type": "display_data",
          "data": {
            "text/plain": [
              "FileUpload(value={}, description='Upload')"
            ],
            "application/vnd.jupyter.widget-view+json": {
              "version_major": 2,
              "version_minor": 0,
              "model_id": "7555d88051654020bc9ead17752cdf0d"
            }
          },
          "metadata": {}
        }
      ],
      "source": [
        "#hide_output\n",
        "btn_upload = widgets.FileUpload()\n",
        "btn_upload"
      ]
    },
    {
      "cell_type": "code",
      "execution_count": 3,
      "id": "b74c98bc-eef1-486b-85ef-bb681336d590",
      "metadata": {
        "id": "b74c98bc-eef1-486b-85ef-bb681336d590"
      },
      "outputs": [],
      "source": [
        "\n",
        "#hide\n",
        "# For the book, we can't actually click an upload button, so we fake it\n",
        "btn_upload = SimpleNamespace(data = ['catimage.jpg'])"
      ]
    },
    {
      "cell_type": "code",
      "execution_count": 11,
      "id": "4a8fa3d5-4c2e-4794-8a4e-ac006d84bc5b",
      "metadata": {
        "id": "4a8fa3d5-4c2e-4794-8a4e-ac006d84bc5b"
      },
      "outputs": [],
      "source": [
        "img = PILImage.create(btn_upload.data[-1])"
      ]
    },
    {
      "cell_type": "code",
      "execution_count": 12,
      "id": "e0f2cf90-c6f0-4a04-bf2c-d6db1447fd34",
      "metadata": {
        "colab": {
          "base_uri": "https://localhost:8080/",
          "height": 87,
          "referenced_widgets": [
            "3f0782d5a4a440438904e17c383cd5df",
            "bb86a7858a86461c912cb405b9388798"
          ]
        },
        "id": "e0f2cf90-c6f0-4a04-bf2c-d6db1447fd34",
        "outputId": "6a1e4cbd-7fb8-4ff1-a06a-c6951d960e5e"
      },
      "outputs": [
        {
          "output_type": "display_data",
          "data": {
            "text/plain": [
              "Output()"
            ],
            "application/vnd.jupyter.widget-view+json": {
              "version_major": 2,
              "version_minor": 0,
              "model_id": "3f0782d5a4a440438904e17c383cd5df"
            }
          },
          "metadata": {}
        }
      ],
      "source": [
        "#hide_output\n",
        "out_pl = widgets.Output()\n",
        "out_pl.clear_output()\n",
        "with out_pl: display(img.to_thumb(128,128))\n",
        "out_pl"
      ]
    },
    {
      "cell_type": "code",
      "source": [
        "print(os.listdir('/content/'))"
      ],
      "metadata": {
        "colab": {
          "base_uri": "https://localhost:8080/"
        },
        "id": "MgG2JqDmenZY",
        "outputId": "3d89801c-3dd4-42b3-db11-f6e0fbf5cd1a"
      },
      "id": "MgG2JqDmenZY",
      "execution_count": 14,
      "outputs": [
        {
          "output_type": "stream",
          "name": "stdout",
          "text": [
            "['.config', 'drive', 'model.pkl', 'catimage.jpg', 'my_data', 'sample_data']\n"
          ]
        }
      ]
    },
    {
      "cell_type": "code",
      "execution_count": 23,
      "id": "6c14843f-de40-4a4b-b29f-473999bd6890",
      "metadata": {
        "id": "6c14843f-de40-4a4b-b29f-473999bd6890"
      },
      "outputs": [],
      "source": [
        "learn_inf = load_learner('/content/models/export.pkl')"
      ]
    },
    {
      "cell_type": "code",
      "execution_count": 24,
      "id": "76501933-90d4-4c70-8d8a-93e171aa4551",
      "metadata": {
        "colab": {
          "base_uri": "https://localhost:8080/",
          "height": 17
        },
        "id": "76501933-90d4-4c70-8d8a-93e171aa4551",
        "outputId": "c0bb7591-e6a7-4909-cb00-5b3750edf930"
      },
      "outputs": [
        {
          "output_type": "display_data",
          "data": {
            "text/plain": [
              "<IPython.core.display.HTML object>"
            ],
            "text/html": [
              "\n",
              "<style>\n",
              "    /* Turns off some styling */\n",
              "    progress {\n",
              "        /* gets rid of default border in Firefox and Opera. */\n",
              "        border: none;\n",
              "        /* Needs to be in here for Safari polyfill so background images work as expected. */\n",
              "        background-size: auto;\n",
              "    }\n",
              "    progress:not([value]), progress:not([value])::-webkit-progress-bar {\n",
              "        background: repeating-linear-gradient(45deg, #7e7e7e, #7e7e7e 10px, #5c5c5c 10px, #5c5c5c 20px);\n",
              "    }\n",
              "    .progress-bar-interrupted, .progress-bar-interrupted::-webkit-progress-bar {\n",
              "        background: #F44336;\n",
              "    }\n",
              "</style>\n"
            ]
          },
          "metadata": {}
        },
        {
          "output_type": "display_data",
          "data": {
            "text/plain": [
              "<IPython.core.display.HTML object>"
            ],
            "text/html": []
          },
          "metadata": {}
        }
      ],
      "source": [
        "pred,pred_idx,probs = learn_inf.predict(img)"
      ]
    },
    {
      "cell_type": "code",
      "source": [
        "#hide_output\n",
        "lbl_pred = widgets.Label()\n",
        "lbl_pred.value = f'Prediction: {pred}; Probability: {probs[pred_idx]:.04f}'\n",
        "lbl_pred"
      ],
      "metadata": {
        "colab": {
          "base_uri": "https://localhost:8080/",
          "height": 49,
          "referenced_widgets": [
            "dff4154e678d4d3698dacf7f49ab397e",
            "d55ee08900b3431a8aa5de1d6d749349",
            "292cfedeec3948d0aca898bae9d1414d"
          ]
        },
        "id": "66NZ_jy0luc-",
        "outputId": "4564f0f3-e088-4bde-f775-506757823dcb"
      },
      "id": "66NZ_jy0luc-",
      "execution_count": 25,
      "outputs": [
        {
          "output_type": "display_data",
          "data": {
            "text/plain": [
              "Label(value='Prediction: cat; Probability: 1.0000')"
            ],
            "application/vnd.jupyter.widget-view+json": {
              "version_major": 2,
              "version_minor": 0,
              "model_id": "dff4154e678d4d3698dacf7f49ab397e"
            }
          },
          "metadata": {}
        }
      ]
    },
    {
      "cell_type": "code",
      "source": [
        "#hide_output\n",
        "btn_run = widgets.Button(description='Classify')\n",
        "btn_run"
      ],
      "metadata": {
        "colab": {
          "base_uri": "https://localhost:8080/",
          "height": 49,
          "referenced_widgets": [
            "8034f344f9fc444e8ca3c8fc4c87d3b8",
            "4d79bee6379546a693b88712c7849c20",
            "7a2fa1ef9e424a6f99062b530fdbc59b"
          ]
        },
        "id": "oly5PKTJlyBQ",
        "outputId": "881bb96b-6b2e-4b37-c35a-37ab8145bc27"
      },
      "id": "oly5PKTJlyBQ",
      "execution_count": 26,
      "outputs": [
        {
          "output_type": "display_data",
          "data": {
            "text/plain": [
              "Button(description='Classify', style=ButtonStyle())"
            ],
            "application/vnd.jupyter.widget-view+json": {
              "version_major": 2,
              "version_minor": 0,
              "model_id": "8034f344f9fc444e8ca3c8fc4c87d3b8"
            }
          },
          "metadata": {}
        }
      ]
    },
    {
      "cell_type": "code",
      "source": [
        "def on_click_classify(change):\n",
        "    img = PILImage.create(btn_upload.data[-1])\n",
        "    out_pl.clear_output()\n",
        "    with out_pl: display(img.to_thumb(128,128))\n",
        "    pred,pred_idx,probs = learn_inf.predict(img)\n",
        "    lbl_pred.value = f'Prediction: {pred}; Probability: {probs[pred_idx]:.04f}'\n",
        "\n",
        "btn_run.on_click(on_click_classify)"
      ],
      "metadata": {
        "id": "_qzV_E8al4xe"
      },
      "id": "_qzV_E8al4xe",
      "execution_count": 28,
      "outputs": []
    },
    {
      "cell_type": "code",
      "source": [
        "#hide\n",
        "#Putting back btn_upload to a widget for next cell\n",
        "btn_upload = widgets.FileUpload()"
      ],
      "metadata": {
        "id": "I_z-J184mxcA"
      },
      "id": "I_z-J184mxcA",
      "execution_count": 29,
      "outputs": []
    },
    {
      "cell_type": "code",
      "source": [
        "#hide_output\n",
        "VBox([widgets.Label('Select your bear!'),\n",
        "      btn_upload, btn_run, out_pl, lbl_pred])"
      ],
      "metadata": {
        "colab": {
          "base_uri": "https://localhost:8080/",
          "height": 215,
          "referenced_widgets": [
            "91921e24e214431e887cdd2651cd4c98",
            "07c5fe9efb6d44dba59672d0c179f919",
            "71d747a81c7440ffb595b229b1182f6c",
            "8034f344f9fc444e8ca3c8fc4c87d3b8",
            "3f0782d5a4a440438904e17c383cd5df",
            "dff4154e678d4d3698dacf7f49ab397e",
            "c21bbd9b585d442ab99288fe2318ca99",
            "42aa94529cf745baae3af011aa66ab67",
            "213b08c918b847b0a3d465b79f527b4a",
            "c699a34ed65e4fe18a8e5f3e16f6fb7e",
            "b35bf96e44b447a8a6fd11d185728e25",
            "4d79bee6379546a693b88712c7849c20",
            "7a2fa1ef9e424a6f99062b530fdbc59b",
            "d55ee08900b3431a8aa5de1d6d749349",
            "292cfedeec3948d0aca898bae9d1414d",
            "bb86a7858a86461c912cb405b9388798"
          ]
        },
        "id": "lgljM8aGm4s-",
        "outputId": "268c4744-6e18-4a87-f670-91d83ab33d35"
      },
      "id": "lgljM8aGm4s-",
      "execution_count": 30,
      "outputs": [
        {
          "output_type": "display_data",
          "data": {
            "text/plain": [
              "VBox(children=(Label(value='Select your bear!'), FileUpload(value={}, description='Upload'), Button(descriptio…"
            ],
            "application/vnd.jupyter.widget-view+json": {
              "version_major": 2,
              "version_minor": 0,
              "model_id": "91921e24e214431e887cdd2651cd4c98"
            }
          },
          "metadata": {}
        },
        {
          "output_type": "display_data",
          "data": {
            "text/plain": [
              "<IPython.core.display.HTML object>"
            ],
            "text/html": [
              "\n",
              "<style>\n",
              "    /* Turns off some styling */\n",
              "    progress {\n",
              "        /* gets rid of default border in Firefox and Opera. */\n",
              "        border: none;\n",
              "        /* Needs to be in here for Safari polyfill so background images work as expected. */\n",
              "        background-size: auto;\n",
              "    }\n",
              "    progress:not([value]), progress:not([value])::-webkit-progress-bar {\n",
              "        background: repeating-linear-gradient(45deg, #7e7e7e, #7e7e7e 10px, #5c5c5c 10px, #5c5c5c 20px);\n",
              "    }\n",
              "    .progress-bar-interrupted, .progress-bar-interrupted::-webkit-progress-bar {\n",
              "        background: #F44336;\n",
              "    }\n",
              "</style>\n"
            ]
          },
          "metadata": {}
        },
        {
          "output_type": "display_data",
          "data": {
            "text/plain": [
              "<IPython.core.display.HTML object>"
            ],
            "text/html": []
          },
          "metadata": {}
        },
        {
          "output_type": "display_data",
          "data": {
            "text/plain": [
              "<IPython.core.display.HTML object>"
            ],
            "text/html": [
              "\n",
              "<style>\n",
              "    /* Turns off some styling */\n",
              "    progress {\n",
              "        /* gets rid of default border in Firefox and Opera. */\n",
              "        border: none;\n",
              "        /* Needs to be in here for Safari polyfill so background images work as expected. */\n",
              "        background-size: auto;\n",
              "    }\n",
              "    progress:not([value]), progress:not([value])::-webkit-progress-bar {\n",
              "        background: repeating-linear-gradient(45deg, #7e7e7e, #7e7e7e 10px, #5c5c5c 10px, #5c5c5c 20px);\n",
              "    }\n",
              "    .progress-bar-interrupted, .progress-bar-interrupted::-webkit-progress-bar {\n",
              "        background: #F44336;\n",
              "    }\n",
              "</style>\n"
            ]
          },
          "metadata": {}
        },
        {
          "output_type": "display_data",
          "data": {
            "text/plain": [
              "<IPython.core.display.HTML object>"
            ],
            "text/html": []
          },
          "metadata": {}
        }
      ]
    },
    {
      "cell_type": "code",
      "source": [
        "!pip install voila\n",
        "!jupyter serverextension enable --sys-prefix voila"
      ],
      "metadata": {
        "colab": {
          "base_uri": "https://localhost:8080/"
        },
        "id": "bua4d41EnIHW",
        "outputId": "b7bf29f0-4fbd-48fd-bf56-8ec5f093ccb7"
      },
      "id": "bua4d41EnIHW",
      "execution_count": 31,
      "outputs": [
        {
          "output_type": "stream",
          "name": "stdout",
          "text": [
            "Collecting voila\n",
            "  Downloading voila-0.5.8-py3-none-any.whl.metadata (9.5 kB)\n",
            "Collecting jupyter-client<9,>=7.4.4 (from voila)\n",
            "  Downloading jupyter_client-8.6.3-py3-none-any.whl.metadata (8.3 kB)\n",
            "Requirement already satisfied: jupyter-core>=4.11.0 in /usr/local/lib/python3.10/dist-packages (from voila) (5.7.2)\n",
            "Requirement already satisfied: jupyter-server<3,>=1.18 in /usr/local/lib/python3.10/dist-packages (from voila) (1.24.0)\n",
            "Collecting jupyterlab-server<3,>=2.3.0 (from voila)\n",
            "  Downloading jupyterlab_server-2.27.3-py3-none-any.whl.metadata (5.9 kB)\n",
            "Requirement already satisfied: nbclient>=0.4.0 in /usr/local/lib/python3.10/dist-packages (from voila) (0.10.0)\n",
            "Requirement already satisfied: nbconvert<8,>=6.4.5 in /usr/local/lib/python3.10/dist-packages (from voila) (7.16.4)\n",
            "Requirement already satisfied: traitlets<6,>=5.0.3 in /usr/local/lib/python3.10/dist-packages (from voila) (5.7.1)\n",
            "Collecting websockets>=9.0 (from voila)\n",
            "  Downloading websockets-14.1-cp310-cp310-manylinux_2_5_x86_64.manylinux1_x86_64.manylinux_2_17_x86_64.manylinux2014_x86_64.whl.metadata (6.7 kB)\n",
            "Requirement already satisfied: python-dateutil>=2.8.2 in /usr/local/lib/python3.10/dist-packages (from jupyter-client<9,>=7.4.4->voila) (2.8.2)\n",
            "Requirement already satisfied: pyzmq>=23.0 in /usr/local/lib/python3.10/dist-packages (from jupyter-client<9,>=7.4.4->voila) (24.0.1)\n",
            "Requirement already satisfied: tornado>=6.2 in /usr/local/lib/python3.10/dist-packages (from jupyter-client<9,>=7.4.4->voila) (6.3.3)\n",
            "Requirement already satisfied: platformdirs>=2.5 in /usr/local/lib/python3.10/dist-packages (from jupyter-core>=4.11.0->voila) (4.3.6)\n",
            "Requirement already satisfied: anyio<4,>=3.1.0 in /usr/local/lib/python3.10/dist-packages (from jupyter-server<3,>=1.18->voila) (3.7.1)\n",
            "Requirement already satisfied: argon2-cffi in /usr/local/lib/python3.10/dist-packages (from jupyter-server<3,>=1.18->voila) (23.1.0)\n",
            "Requirement already satisfied: jinja2 in /usr/local/lib/python3.10/dist-packages (from jupyter-server<3,>=1.18->voila) (3.1.4)\n",
            "Requirement already satisfied: nbformat>=5.2.0 in /usr/local/lib/python3.10/dist-packages (from jupyter-server<3,>=1.18->voila) (5.10.4)\n",
            "Requirement already satisfied: packaging in /usr/local/lib/python3.10/dist-packages (from jupyter-server<3,>=1.18->voila) (24.2)\n",
            "Requirement already satisfied: prometheus-client in /usr/local/lib/python3.10/dist-packages (from jupyter-server<3,>=1.18->voila) (0.21.0)\n",
            "Requirement already satisfied: Send2Trash in /usr/local/lib/python3.10/dist-packages (from jupyter-server<3,>=1.18->voila) (1.8.3)\n",
            "Requirement already satisfied: terminado>=0.8.3 in /usr/local/lib/python3.10/dist-packages (from jupyter-server<3,>=1.18->voila) (0.18.1)\n",
            "Requirement already satisfied: websocket-client in /usr/local/lib/python3.10/dist-packages (from jupyter-server<3,>=1.18->voila) (1.8.0)\n",
            "Requirement already satisfied: babel>=2.10 in /usr/local/lib/python3.10/dist-packages (from jupyterlab-server<3,>=2.3.0->voila) (2.16.0)\n",
            "Collecting json5>=0.9.0 (from jupyterlab-server<3,>=2.3.0->voila)\n",
            "  Downloading json5-0.9.28-py3-none-any.whl.metadata (32 kB)\n",
            "Requirement already satisfied: jsonschema>=4.18.0 in /usr/local/lib/python3.10/dist-packages (from jupyterlab-server<3,>=2.3.0->voila) (4.23.0)\n",
            "Requirement already satisfied: requests>=2.31 in /usr/local/lib/python3.10/dist-packages (from jupyterlab-server<3,>=2.3.0->voila) (2.32.3)\n",
            "Requirement already satisfied: beautifulsoup4 in /usr/local/lib/python3.10/dist-packages (from nbconvert<8,>=6.4.5->voila) (4.12.3)\n",
            "Requirement already satisfied: bleach!=5.0.0 in /usr/local/lib/python3.10/dist-packages (from nbconvert<8,>=6.4.5->voila) (6.2.0)\n",
            "Requirement already satisfied: defusedxml in /usr/local/lib/python3.10/dist-packages (from nbconvert<8,>=6.4.5->voila) (0.7.1)\n",
            "Requirement already satisfied: jupyterlab-pygments in /usr/local/lib/python3.10/dist-packages (from nbconvert<8,>=6.4.5->voila) (0.3.0)\n",
            "Requirement already satisfied: markupsafe>=2.0 in /usr/local/lib/python3.10/dist-packages (from nbconvert<8,>=6.4.5->voila) (3.0.2)\n",
            "Requirement already satisfied: mistune<4,>=2.0.3 in /usr/local/lib/python3.10/dist-packages (from nbconvert<8,>=6.4.5->voila) (3.0.2)\n",
            "Requirement already satisfied: pandocfilters>=1.4.1 in /usr/local/lib/python3.10/dist-packages (from nbconvert<8,>=6.4.5->voila) (1.5.1)\n",
            "Requirement already satisfied: pygments>=2.4.1 in /usr/local/lib/python3.10/dist-packages (from nbconvert<8,>=6.4.5->voila) (2.18.0)\n",
            "Requirement already satisfied: tinycss2 in /usr/local/lib/python3.10/dist-packages (from nbconvert<8,>=6.4.5->voila) (1.4.0)\n",
            "Requirement already satisfied: idna>=2.8 in /usr/local/lib/python3.10/dist-packages (from anyio<4,>=3.1.0->jupyter-server<3,>=1.18->voila) (3.10)\n",
            "Requirement already satisfied: sniffio>=1.1 in /usr/local/lib/python3.10/dist-packages (from anyio<4,>=3.1.0->jupyter-server<3,>=1.18->voila) (1.3.1)\n",
            "Requirement already satisfied: exceptiongroup in /usr/local/lib/python3.10/dist-packages (from anyio<4,>=3.1.0->jupyter-server<3,>=1.18->voila) (1.2.2)\n",
            "Requirement already satisfied: webencodings in /usr/local/lib/python3.10/dist-packages (from bleach!=5.0.0->nbconvert<8,>=6.4.5->voila) (0.5.1)\n",
            "Requirement already satisfied: attrs>=22.2.0 in /usr/local/lib/python3.10/dist-packages (from jsonschema>=4.18.0->jupyterlab-server<3,>=2.3.0->voila) (24.2.0)\n",
            "Requirement already satisfied: jsonschema-specifications>=2023.03.6 in /usr/local/lib/python3.10/dist-packages (from jsonschema>=4.18.0->jupyterlab-server<3,>=2.3.0->voila) (2024.10.1)\n",
            "Requirement already satisfied: referencing>=0.28.4 in /usr/local/lib/python3.10/dist-packages (from jsonschema>=4.18.0->jupyterlab-server<3,>=2.3.0->voila) (0.35.1)\n",
            "Requirement already satisfied: rpds-py>=0.7.1 in /usr/local/lib/python3.10/dist-packages (from jsonschema>=4.18.0->jupyterlab-server<3,>=2.3.0->voila) (0.21.0)\n",
            "Requirement already satisfied: fastjsonschema>=2.15 in /usr/local/lib/python3.10/dist-packages (from nbformat>=5.2.0->jupyter-server<3,>=1.18->voila) (2.20.0)\n",
            "Requirement already satisfied: six>=1.5 in /usr/local/lib/python3.10/dist-packages (from python-dateutil>=2.8.2->jupyter-client<9,>=7.4.4->voila) (1.16.0)\n",
            "Requirement already satisfied: charset-normalizer<4,>=2 in /usr/local/lib/python3.10/dist-packages (from requests>=2.31->jupyterlab-server<3,>=2.3.0->voila) (3.4.0)\n",
            "Requirement already satisfied: urllib3<3,>=1.21.1 in /usr/local/lib/python3.10/dist-packages (from requests>=2.31->jupyterlab-server<3,>=2.3.0->voila) (2.2.3)\n",
            "Requirement already satisfied: certifi>=2017.4.17 in /usr/local/lib/python3.10/dist-packages (from requests>=2.31->jupyterlab-server<3,>=2.3.0->voila) (2024.8.30)\n",
            "Requirement already satisfied: ptyprocess in /usr/local/lib/python3.10/dist-packages (from terminado>=0.8.3->jupyter-server<3,>=1.18->voila) (0.7.0)\n",
            "Requirement already satisfied: argon2-cffi-bindings in /usr/local/lib/python3.10/dist-packages (from argon2-cffi->jupyter-server<3,>=1.18->voila) (21.2.0)\n",
            "Requirement already satisfied: soupsieve>1.2 in /usr/local/lib/python3.10/dist-packages (from beautifulsoup4->nbconvert<8,>=6.4.5->voila) (2.6)\n",
            "Requirement already satisfied: cffi>=1.0.1 in /usr/local/lib/python3.10/dist-packages (from argon2-cffi-bindings->argon2-cffi->jupyter-server<3,>=1.18->voila) (1.17.1)\n",
            "Requirement already satisfied: pycparser in /usr/local/lib/python3.10/dist-packages (from cffi>=1.0.1->argon2-cffi-bindings->argon2-cffi->jupyter-server<3,>=1.18->voila) (2.22)\n",
            "Downloading voila-0.5.8-py3-none-any.whl (4.5 MB)\n",
            "\u001b[2K   \u001b[90m━━━━━━━━━━━━━━━━━━━━━━━━━━━━━━━━━━━━━━━━\u001b[0m \u001b[32m4.5/4.5 MB\u001b[0m \u001b[31m52.5 MB/s\u001b[0m eta \u001b[36m0:00:00\u001b[0m\n",
            "\u001b[?25hDownloading jupyter_client-8.6.3-py3-none-any.whl (106 kB)\n",
            "\u001b[2K   \u001b[90m━━━━━━━━━━━━━━━━━━━━━━━━━━━━━━━━━━━━━━━━\u001b[0m \u001b[32m106.1/106.1 kB\u001b[0m \u001b[31m11.2 MB/s\u001b[0m eta \u001b[36m0:00:00\u001b[0m\n",
            "\u001b[?25hDownloading jupyterlab_server-2.27.3-py3-none-any.whl (59 kB)\n",
            "\u001b[2K   \u001b[90m━━━━━━━━━━━━━━━━━━━━━━━━━━━━━━━━━━━━━━━━\u001b[0m \u001b[32m59.7/59.7 kB\u001b[0m \u001b[31m6.1 MB/s\u001b[0m eta \u001b[36m0:00:00\u001b[0m\n",
            "\u001b[?25hDownloading websockets-14.1-cp310-cp310-manylinux_2_5_x86_64.manylinux1_x86_64.manylinux_2_17_x86_64.manylinux2014_x86_64.whl (168 kB)\n",
            "\u001b[2K   \u001b[90m━━━━━━━━━━━━━━━━━━━━━━━━━━━━━━━━━━━━━━━━\u001b[0m \u001b[32m168.2/168.2 kB\u001b[0m \u001b[31m15.0 MB/s\u001b[0m eta \u001b[36m0:00:00\u001b[0m\n",
            "\u001b[?25hDownloading json5-0.9.28-py3-none-any.whl (30 kB)\n",
            "Installing collected packages: websockets, json5, jupyter-client, jupyterlab-server, voila\n",
            "  Attempting uninstall: jupyter-client\n",
            "    Found existing installation: jupyter-client 6.1.12\n",
            "    Uninstalling jupyter-client-6.1.12:\n",
            "      Successfully uninstalled jupyter-client-6.1.12\n",
            "\u001b[31mERROR: pip's dependency resolver does not currently take into account all the packages that are installed. This behaviour is the source of the following dependency conflicts.\n",
            "notebook 6.5.5 requires jupyter-client<8,>=5.3.4, but you have jupyter-client 8.6.3 which is incompatible.\u001b[0m\u001b[31m\n",
            "\u001b[0mSuccessfully installed json5-0.9.28 jupyter-client-8.6.3 jupyterlab-server-2.27.3 voila-0.5.8 websockets-14.1\n",
            "Enabling: voila\n",
            "- Writing config: /usr/etc/jupyter\n",
            "    - Validating...\n",
            "      voila 0.5.8 \u001b[32mOK\u001b[0m\n"
          ]
        }
      ]
    }
  ],
  "metadata": {
    "kernelspec": {
      "display_name": "Python 3 (ipykernel)",
      "language": "python",
      "name": "python3"
    },
    "language_info": {
      "codemirror_mode": {
        "name": "ipython",
        "version": 3
      },
      "file_extension": ".py",
      "mimetype": "text/x-python",
      "name": "python",
      "nbconvert_exporter": "python",
      "pygments_lexer": "ipython3",
      "version": "3.12.6"
    },
    "colab": {
      "provenance": [],
      "include_colab_link": true
    },
    "widgets": {
      "application/vnd.jupyter.widget-state+json": {
        "7555d88051654020bc9ead17752cdf0d": {
          "model_module": "@jupyter-widgets/controls",
          "model_name": "FileUploadModel",
          "model_module_version": "1.5.0",
          "state": {
            "_counter": 1,
            "_dom_classes": [],
            "_model_module": "@jupyter-widgets/controls",
            "_model_module_version": "1.5.0",
            "_model_name": "FileUploadModel",
            "_view_count": null,
            "_view_module": "@jupyter-widgets/controls",
            "_view_module_version": "1.5.0",
            "_view_name": "FileUploadView",
            "accept": "",
            "button_style": "",
            "data": [
              null
            ],
            "description": "Upload",
            "description_tooltip": null,
            "disabled": false,
            "error": "",
            "icon": "upload",
            "layout": "IPY_MODEL_89789626b5ec4a9197dc3843de837e1c",
            "metadata": [
              {
                "name": "catimage.jpg",
                "type": "image/jpeg",
                "size": 2639587,
                "lastModified": 1731679606735
              }
            ],
            "multiple": false,
            "style": "IPY_MODEL_754c4ce9cdad4e72b4c0bef3562dcdde"
          }
        },
        "89789626b5ec4a9197dc3843de837e1c": {
          "model_module": "@jupyter-widgets/base",
          "model_name": "LayoutModel",
          "model_module_version": "1.2.0",
          "state": {
            "_model_module": "@jupyter-widgets/base",
            "_model_module_version": "1.2.0",
            "_model_name": "LayoutModel",
            "_view_count": null,
            "_view_module": "@jupyter-widgets/base",
            "_view_module_version": "1.2.0",
            "_view_name": "LayoutView",
            "align_content": null,
            "align_items": null,
            "align_self": null,
            "border": null,
            "bottom": null,
            "display": null,
            "flex": null,
            "flex_flow": null,
            "grid_area": null,
            "grid_auto_columns": null,
            "grid_auto_flow": null,
            "grid_auto_rows": null,
            "grid_column": null,
            "grid_gap": null,
            "grid_row": null,
            "grid_template_areas": null,
            "grid_template_columns": null,
            "grid_template_rows": null,
            "height": null,
            "justify_content": null,
            "justify_items": null,
            "left": null,
            "margin": null,
            "max_height": null,
            "max_width": null,
            "min_height": null,
            "min_width": null,
            "object_fit": null,
            "object_position": null,
            "order": null,
            "overflow": null,
            "overflow_x": null,
            "overflow_y": null,
            "padding": null,
            "right": null,
            "top": null,
            "visibility": null,
            "width": null
          }
        },
        "754c4ce9cdad4e72b4c0bef3562dcdde": {
          "model_module": "@jupyter-widgets/controls",
          "model_name": "ButtonStyleModel",
          "model_module_version": "1.5.0",
          "state": {
            "_model_module": "@jupyter-widgets/controls",
            "_model_module_version": "1.5.0",
            "_model_name": "ButtonStyleModel",
            "_view_count": null,
            "_view_module": "@jupyter-widgets/base",
            "_view_module_version": "1.2.0",
            "_view_name": "StyleView",
            "button_color": null,
            "font_weight": ""
          }
        },
        "3f0782d5a4a440438904e17c383cd5df": {
          "model_module": "@jupyter-widgets/output",
          "model_name": "OutputModel",
          "model_module_version": "1.0.0",
          "state": {
            "_dom_classes": [],
            "_model_module": "@jupyter-widgets/output",
            "_model_module_version": "1.0.0",
            "_model_name": "OutputModel",
            "_view_count": null,
            "_view_module": "@jupyter-widgets/output",
            "_view_module_version": "1.0.0",
            "_view_name": "OutputView",
            "layout": "IPY_MODEL_bb86a7858a86461c912cb405b9388798",
            "msg_id": "",
            "outputs": [
              {
                "output_type": "display_data",
                "data": {
                  "text/plain": "<PIL.Image.Image image mode=RGB size=128x70>",
                  "image/png": "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\n",
                  "image/jpeg": "/9j/4AAQSkZJRgABAQAAAQABAAD/2wBDAAgGBgcGBQgHBwcJCQgKDBQNDAsLDBkSEw8UHRofHh0aHBwgJC4nICIsIxwcKDcpLDAxNDQ0Hyc5PTgyPC4zNDL/2wBDAQkJCQwLDBgNDRgyIRwhMjIyMjIyMjIyMjIyMjIyMjIyMjIyMjIyMjIyMjIyMjIyMjIyMjIyMjIyMjIyMjIyMjL/wAARCABGAIADASIAAhEBAxEB/8QAHwAAAQUBAQEBAQEAAAAAAAAAAAECAwQFBgcICQoL/8QAtRAAAgEDAwIEAwUFBAQAAAF9AQIDAAQRBRIhMUEGE1FhByJxFDKBkaEII0KxwRVS0fAkM2JyggkKFhcYGRolJicoKSo0NTY3ODk6Q0RFRkdISUpTVFVWV1hZWmNkZWZnaGlqc3R1dnd4eXqDhIWGh4iJipKTlJWWl5iZmqKjpKWmp6ipqrKztLW2t7i5usLDxMXGx8jJytLT1NXW19jZ2uHi4+Tl5ufo6erx8vP09fb3+Pn6/8QAHwEAAwEBAQEBAQEBAQAAAAAAAAECAwQFBgcICQoL/8QAtREAAgECBAQDBAcFBAQAAQJ3AAECAxEEBSExBhJBUQdhcRMiMoEIFEKRobHBCSMzUvAVYnLRChYkNOEl8RcYGRomJygpKjU2Nzg5OkNERUZHSElKU1RVVldYWVpjZGVmZ2hpanN0dXZ3eHl6goOEhYaHiImKkpOUlZaXmJmaoqOkpaanqKmqsrO0tba3uLm6wsPExcbHyMnK0tPU1dbX2Nna4uPk5ebn6Onq8vP09fb3+Pn6/9oADAMBAAIRAxEAPwD3+oriQw27yKMlRwKlqC8/49JPpUzdotocVdoyJ767bHlyL7hjt/pUX2u+6748+nmn/CpaMD0ryPaze7O/kj2HQ6hcomXZWYfwj5h+dbO/92WA6DOKwz90/Stkf6h/p/SuzCTlK92c+IilaxkzX9065jdVb+63yj86hF1fc5eIHtiU8/pUo6D6UVXMzxnOT6hBfXak+Y6+wU7s/pWzBKZoVcjBI5FY1atn/wAe61rSk29TehJttNnFat4o1T7XLFbMkKJIUxjkgHGc4NZZ13WScm9b/v6f8KL7/kI3X/XZ/wCZqvX1VPD01FWijzJ1puTuy9D4k1mFx/pYdc/xHdn9K7nQ9Rk1PTUuJUCyEkEL0OD1rziu88J/8gVP99v51x5hRhGmpRWtzqwVWcp8reljdooorxz0wqC8/wCPST6VPUF5/wAekn0qZ/Cyo/EjIooorxD0RD90/StgKdkjZ4K4x+FY5+6a2sHyX47f0ruwX2jlxPQxx0H0opB0FLVHhBWnaKdiNngLjH5VmVq2Y/0dfpWtHdnTh92ebX3/ACEbr/rs/wDM1XqxfgjUroEYPnPwfqar19lD4UeRP4mFd14VUnR4SDjEjk+9cLXeeFARosZIOCzY/OuLMv4K9TrwP8X5G7RRRXhHrld2vBIwSKBo88EyEH8tv1rM1ebxKiQf2RZ6bK5ciX7RM4AXHBGB61t0UAcWyeOHOTpXh4H2uZR/Jab5Hjj/AKB3h/8A8Cpv/ia7aiodOD3SK55LqcaieOozldP8Ng+pnmP/ALLUvm/EH/n18Nj/ALbT/wDxNdbRVJJaITbe5xrw+O5DlrTwzn1Ek4/pTPsnjr/n38N/9/Z/8K7WijlXYhxi90cYtt46U5EHhj8TOamx8QfXw0PwnrraKaVhpJbHE3Ol+NL05uI/Czt/eMU2fzzVI+FPFTHP/FOL9FuP/iq9DorSNWpFWjJr5kunCWrSOAi8NeLISCp8M59Wt5m/m1dDo8HiiH7QNVudKdcIIBbQuoXruzk/St6iplOUvidxxjGOysVcX+Pv22f91v8AGrQzjnrRRUlBRRRQAUUUUAFFFFABRRRQAUUUUAFFFFABRRRQAUUUUAFFFFABRRRQAUUUUAFFFFABRRRQAUUUUAFFFFABRRRQB//Z\n"
                },
                "metadata": {}
              }
            ]
          }
        },
        "bb86a7858a86461c912cb405b9388798": {
          "model_module": "@jupyter-widgets/base",
          "model_name": "LayoutModel",
          "model_module_version": "1.2.0",
          "state": {
            "_model_module": "@jupyter-widgets/base",
            "_model_module_version": "1.2.0",
            "_model_name": "LayoutModel",
            "_view_count": null,
            "_view_module": "@jupyter-widgets/base",
            "_view_module_version": "1.2.0",
            "_view_name": "LayoutView",
            "align_content": null,
            "align_items": null,
            "align_self": null,
            "border": null,
            "bottom": null,
            "display": null,
            "flex": null,
            "flex_flow": null,
            "grid_area": null,
            "grid_auto_columns": null,
            "grid_auto_flow": null,
            "grid_auto_rows": null,
            "grid_column": null,
            "grid_gap": null,
            "grid_row": null,
            "grid_template_areas": null,
            "grid_template_columns": null,
            "grid_template_rows": null,
            "height": null,
            "justify_content": null,
            "justify_items": null,
            "left": null,
            "margin": null,
            "max_height": null,
            "max_width": null,
            "min_height": null,
            "min_width": null,
            "object_fit": null,
            "object_position": null,
            "order": null,
            "overflow": null,
            "overflow_x": null,
            "overflow_y": null,
            "padding": null,
            "right": null,
            "top": null,
            "visibility": null,
            "width": null
          }
        },
        "dff4154e678d4d3698dacf7f49ab397e": {
          "model_module": "@jupyter-widgets/controls",
          "model_name": "LabelModel",
          "model_module_version": "1.5.0",
          "state": {
            "_dom_classes": [],
            "_model_module": "@jupyter-widgets/controls",
            "_model_module_version": "1.5.0",
            "_model_name": "LabelModel",
            "_view_count": null,
            "_view_module": "@jupyter-widgets/controls",
            "_view_module_version": "1.5.0",
            "_view_name": "LabelView",
            "description": "",
            "description_tooltip": null,
            "layout": "IPY_MODEL_d55ee08900b3431a8aa5de1d6d749349",
            "placeholder": "​",
            "style": "IPY_MODEL_292cfedeec3948d0aca898bae9d1414d",
            "value": "Prediction: butterfly; Probability: 0.9542"
          }
        },
        "d55ee08900b3431a8aa5de1d6d749349": {
          "model_module": "@jupyter-widgets/base",
          "model_name": "LayoutModel",
          "model_module_version": "1.2.0",
          "state": {
            "_model_module": "@jupyter-widgets/base",
            "_model_module_version": "1.2.0",
            "_model_name": "LayoutModel",
            "_view_count": null,
            "_view_module": "@jupyter-widgets/base",
            "_view_module_version": "1.2.0",
            "_view_name": "LayoutView",
            "align_content": null,
            "align_items": null,
            "align_self": null,
            "border": null,
            "bottom": null,
            "display": null,
            "flex": null,
            "flex_flow": null,
            "grid_area": null,
            "grid_auto_columns": null,
            "grid_auto_flow": null,
            "grid_auto_rows": null,
            "grid_column": null,
            "grid_gap": null,
            "grid_row": null,
            "grid_template_areas": null,
            "grid_template_columns": null,
            "grid_template_rows": null,
            "height": null,
            "justify_content": null,
            "justify_items": null,
            "left": null,
            "margin": null,
            "max_height": null,
            "max_width": null,
            "min_height": null,
            "min_width": null,
            "object_fit": null,
            "object_position": null,
            "order": null,
            "overflow": null,
            "overflow_x": null,
            "overflow_y": null,
            "padding": null,
            "right": null,
            "top": null,
            "visibility": null,
            "width": null
          }
        },
        "292cfedeec3948d0aca898bae9d1414d": {
          "model_module": "@jupyter-widgets/controls",
          "model_name": "DescriptionStyleModel",
          "model_module_version": "1.5.0",
          "state": {
            "_model_module": "@jupyter-widgets/controls",
            "_model_module_version": "1.5.0",
            "_model_name": "DescriptionStyleModel",
            "_view_count": null,
            "_view_module": "@jupyter-widgets/base",
            "_view_module_version": "1.2.0",
            "_view_name": "StyleView",
            "description_width": ""
          }
        },
        "8034f344f9fc444e8ca3c8fc4c87d3b8": {
          "model_module": "@jupyter-widgets/controls",
          "model_name": "ButtonModel",
          "model_module_version": "1.5.0",
          "state": {
            "_dom_classes": [],
            "_model_module": "@jupyter-widgets/controls",
            "_model_module_version": "1.5.0",
            "_model_name": "ButtonModel",
            "_view_count": null,
            "_view_module": "@jupyter-widgets/controls",
            "_view_module_version": "1.5.0",
            "_view_name": "ButtonView",
            "button_style": "",
            "description": "Classify",
            "disabled": false,
            "icon": "",
            "layout": "IPY_MODEL_4d79bee6379546a693b88712c7849c20",
            "style": "IPY_MODEL_7a2fa1ef9e424a6f99062b530fdbc59b",
            "tooltip": ""
          }
        },
        "4d79bee6379546a693b88712c7849c20": {
          "model_module": "@jupyter-widgets/base",
          "model_name": "LayoutModel",
          "model_module_version": "1.2.0",
          "state": {
            "_model_module": "@jupyter-widgets/base",
            "_model_module_version": "1.2.0",
            "_model_name": "LayoutModel",
            "_view_count": null,
            "_view_module": "@jupyter-widgets/base",
            "_view_module_version": "1.2.0",
            "_view_name": "LayoutView",
            "align_content": null,
            "align_items": null,
            "align_self": null,
            "border": null,
            "bottom": null,
            "display": null,
            "flex": null,
            "flex_flow": null,
            "grid_area": null,
            "grid_auto_columns": null,
            "grid_auto_flow": null,
            "grid_auto_rows": null,
            "grid_column": null,
            "grid_gap": null,
            "grid_row": null,
            "grid_template_areas": null,
            "grid_template_columns": null,
            "grid_template_rows": null,
            "height": null,
            "justify_content": null,
            "justify_items": null,
            "left": null,
            "margin": null,
            "max_height": null,
            "max_width": null,
            "min_height": null,
            "min_width": null,
            "object_fit": null,
            "object_position": null,
            "order": null,
            "overflow": null,
            "overflow_x": null,
            "overflow_y": null,
            "padding": null,
            "right": null,
            "top": null,
            "visibility": null,
            "width": null
          }
        },
        "7a2fa1ef9e424a6f99062b530fdbc59b": {
          "model_module": "@jupyter-widgets/controls",
          "model_name": "ButtonStyleModel",
          "model_module_version": "1.5.0",
          "state": {
            "_model_module": "@jupyter-widgets/controls",
            "_model_module_version": "1.5.0",
            "_model_name": "ButtonStyleModel",
            "_view_count": null,
            "_view_module": "@jupyter-widgets/base",
            "_view_module_version": "1.2.0",
            "_view_name": "StyleView",
            "button_color": null,
            "font_weight": ""
          }
        },
        "91921e24e214431e887cdd2651cd4c98": {
          "model_module": "@jupyter-widgets/controls",
          "model_name": "VBoxModel",
          "model_module_version": "1.5.0",
          "state": {
            "_dom_classes": [],
            "_model_module": "@jupyter-widgets/controls",
            "_model_module_version": "1.5.0",
            "_model_name": "VBoxModel",
            "_view_count": null,
            "_view_module": "@jupyter-widgets/controls",
            "_view_module_version": "1.5.0",
            "_view_name": "VBoxView",
            "box_style": "",
            "children": [
              "IPY_MODEL_07c5fe9efb6d44dba59672d0c179f919",
              "IPY_MODEL_71d747a81c7440ffb595b229b1182f6c",
              "IPY_MODEL_8034f344f9fc444e8ca3c8fc4c87d3b8",
              "IPY_MODEL_3f0782d5a4a440438904e17c383cd5df",
              "IPY_MODEL_dff4154e678d4d3698dacf7f49ab397e"
            ],
            "layout": "IPY_MODEL_c21bbd9b585d442ab99288fe2318ca99"
          }
        },
        "07c5fe9efb6d44dba59672d0c179f919": {
          "model_module": "@jupyter-widgets/controls",
          "model_name": "LabelModel",
          "model_module_version": "1.5.0",
          "state": {
            "_dom_classes": [],
            "_model_module": "@jupyter-widgets/controls",
            "_model_module_version": "1.5.0",
            "_model_name": "LabelModel",
            "_view_count": null,
            "_view_module": "@jupyter-widgets/controls",
            "_view_module_version": "1.5.0",
            "_view_name": "LabelView",
            "description": "",
            "description_tooltip": null,
            "layout": "IPY_MODEL_42aa94529cf745baae3af011aa66ab67",
            "placeholder": "​",
            "style": "IPY_MODEL_213b08c918b847b0a3d465b79f527b4a",
            "value": "Select your bear!"
          }
        },
        "71d747a81c7440ffb595b229b1182f6c": {
          "model_module": "@jupyter-widgets/controls",
          "model_name": "FileUploadModel",
          "model_module_version": "1.5.0",
          "state": {
            "_counter": 1,
            "_dom_classes": [],
            "_model_module": "@jupyter-widgets/controls",
            "_model_module_version": "1.5.0",
            "_model_name": "FileUploadModel",
            "_view_count": null,
            "_view_module": "@jupyter-widgets/controls",
            "_view_module_version": "1.5.0",
            "_view_name": "FileUploadView",
            "accept": "",
            "button_style": "",
            "data": [
              null
            ],
            "description": "Upload",
            "description_tooltip": null,
            "disabled": false,
            "error": "",
            "icon": "upload",
            "layout": "IPY_MODEL_c699a34ed65e4fe18a8e5f3e16f6fb7e",
            "metadata": [
              {
                "name": "trancher.png",
                "type": "image/png",
                "size": 50739,
                "lastModified": 1727888073990
              }
            ],
            "multiple": false,
            "style": "IPY_MODEL_b35bf96e44b447a8a6fd11d185728e25"
          }
        },
        "c21bbd9b585d442ab99288fe2318ca99": {
          "model_module": "@jupyter-widgets/base",
          "model_name": "LayoutModel",
          "model_module_version": "1.2.0",
          "state": {
            "_model_module": "@jupyter-widgets/base",
            "_model_module_version": "1.2.0",
            "_model_name": "LayoutModel",
            "_view_count": null,
            "_view_module": "@jupyter-widgets/base",
            "_view_module_version": "1.2.0",
            "_view_name": "LayoutView",
            "align_content": null,
            "align_items": null,
            "align_self": null,
            "border": null,
            "bottom": null,
            "display": null,
            "flex": null,
            "flex_flow": null,
            "grid_area": null,
            "grid_auto_columns": null,
            "grid_auto_flow": null,
            "grid_auto_rows": null,
            "grid_column": null,
            "grid_gap": null,
            "grid_row": null,
            "grid_template_areas": null,
            "grid_template_columns": null,
            "grid_template_rows": null,
            "height": null,
            "justify_content": null,
            "justify_items": null,
            "left": null,
            "margin": null,
            "max_height": null,
            "max_width": null,
            "min_height": null,
            "min_width": null,
            "object_fit": null,
            "object_position": null,
            "order": null,
            "overflow": null,
            "overflow_x": null,
            "overflow_y": null,
            "padding": null,
            "right": null,
            "top": null,
            "visibility": null,
            "width": null
          }
        },
        "42aa94529cf745baae3af011aa66ab67": {
          "model_module": "@jupyter-widgets/base",
          "model_name": "LayoutModel",
          "model_module_version": "1.2.0",
          "state": {
            "_model_module": "@jupyter-widgets/base",
            "_model_module_version": "1.2.0",
            "_model_name": "LayoutModel",
            "_view_count": null,
            "_view_module": "@jupyter-widgets/base",
            "_view_module_version": "1.2.0",
            "_view_name": "LayoutView",
            "align_content": null,
            "align_items": null,
            "align_self": null,
            "border": null,
            "bottom": null,
            "display": null,
            "flex": null,
            "flex_flow": null,
            "grid_area": null,
            "grid_auto_columns": null,
            "grid_auto_flow": null,
            "grid_auto_rows": null,
            "grid_column": null,
            "grid_gap": null,
            "grid_row": null,
            "grid_template_areas": null,
            "grid_template_columns": null,
            "grid_template_rows": null,
            "height": null,
            "justify_content": null,
            "justify_items": null,
            "left": null,
            "margin": null,
            "max_height": null,
            "max_width": null,
            "min_height": null,
            "min_width": null,
            "object_fit": null,
            "object_position": null,
            "order": null,
            "overflow": null,
            "overflow_x": null,
            "overflow_y": null,
            "padding": null,
            "right": null,
            "top": null,
            "visibility": null,
            "width": null
          }
        },
        "213b08c918b847b0a3d465b79f527b4a": {
          "model_module": "@jupyter-widgets/controls",
          "model_name": "DescriptionStyleModel",
          "model_module_version": "1.5.0",
          "state": {
            "_model_module": "@jupyter-widgets/controls",
            "_model_module_version": "1.5.0",
            "_model_name": "DescriptionStyleModel",
            "_view_count": null,
            "_view_module": "@jupyter-widgets/base",
            "_view_module_version": "1.2.0",
            "_view_name": "StyleView",
            "description_width": ""
          }
        },
        "c699a34ed65e4fe18a8e5f3e16f6fb7e": {
          "model_module": "@jupyter-widgets/base",
          "model_name": "LayoutModel",
          "model_module_version": "1.2.0",
          "state": {
            "_model_module": "@jupyter-widgets/base",
            "_model_module_version": "1.2.0",
            "_model_name": "LayoutModel",
            "_view_count": null,
            "_view_module": "@jupyter-widgets/base",
            "_view_module_version": "1.2.0",
            "_view_name": "LayoutView",
            "align_content": null,
            "align_items": null,
            "align_self": null,
            "border": null,
            "bottom": null,
            "display": null,
            "flex": null,
            "flex_flow": null,
            "grid_area": null,
            "grid_auto_columns": null,
            "grid_auto_flow": null,
            "grid_auto_rows": null,
            "grid_column": null,
            "grid_gap": null,
            "grid_row": null,
            "grid_template_areas": null,
            "grid_template_columns": null,
            "grid_template_rows": null,
            "height": null,
            "justify_content": null,
            "justify_items": null,
            "left": null,
            "margin": null,
            "max_height": null,
            "max_width": null,
            "min_height": null,
            "min_width": null,
            "object_fit": null,
            "object_position": null,
            "order": null,
            "overflow": null,
            "overflow_x": null,
            "overflow_y": null,
            "padding": null,
            "right": null,
            "top": null,
            "visibility": null,
            "width": null
          }
        },
        "b35bf96e44b447a8a6fd11d185728e25": {
          "model_module": "@jupyter-widgets/controls",
          "model_name": "ButtonStyleModel",
          "model_module_version": "1.5.0",
          "state": {
            "_model_module": "@jupyter-widgets/controls",
            "_model_module_version": "1.5.0",
            "_model_name": "ButtonStyleModel",
            "_view_count": null,
            "_view_module": "@jupyter-widgets/base",
            "_view_module_version": "1.2.0",
            "_view_name": "StyleView",
            "button_color": null,
            "font_weight": ""
          }
        }
      }
    }
  },
  "nbformat": 4,
  "nbformat_minor": 5
}